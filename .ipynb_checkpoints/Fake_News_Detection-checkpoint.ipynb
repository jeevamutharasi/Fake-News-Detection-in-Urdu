{
 "cells": [
  {
   "cell_type": "markdown",
   "metadata": {
    "id": "gvb9A2X1rA9m"
   },
   "source": [
    "This file contains the following parts (Sections)\n",
    "\n",
    "Training\n",
    "1.   Data preprocessing helping functions\n",
    "2.   Loading Training Dataset for **Naive Bayes** and **Binary Naive bayes with Stopwords** and **Binary Naive bayes without Stopwords**\n",
    "3.   **Naive Bayes Classifier**\n",
    "4.   **Binary Naive Bayes Classifier with stopwords**\n",
    "5.   **Binary Naive Bayes Classifier without stopwords**\n",
    "\n",
    "Testing\n",
    "1. Loading Test Dataset for **Naive Bayes**, **Binary Naive bayes with Stopwords** and **Binary Naive bayes without Stopwords**\n",
    "2. Testing the working of Models\n",
    "3. **Classification Report**\n",
    "4. **Results**\n",
    "\n",
    "\n",
    "\n"
   ]
  },
  {
   "cell_type": "code",
   "execution_count": null,
   "metadata": {},
   "outputs": [],
   "source": [
    "!pip install -U spacy"
   ]
  },
  {
   "cell_type": "code",
   "execution_count": null,
   "metadata": {
    "id": "KRz5ar6lXGVE"
   },
   "outputs": [],
   "source": [
    "import glob\n",
    "import math\n",
    "import re\n",
    "import spacy\n",
    "from collections import Counter\n",
    "from sklearn.metrics import classification_report\n",
    "unlp = spacy.blank('ur')"
   ]
  },
  {
   "cell_type": "markdown",
   "metadata": {
    "id": "Jhxh-tyxfwlu"
   },
   "source": [
    "## Data preprocessing helping functions"
   ]
  },
  {
   "cell_type": "code",
   "execution_count": null,
   "metadata": {
    "id": "ixwBKxPWXU9d"
   },
   "outputs": [],
   "source": [
    "def removePunctuation(word):\n",
    "        word = word.text\n",
    "        word = word.replace('\\\\r\\\\/','')\n",
    "        word = word.replace(',','')\n",
    "        word = word.replace('?','')\n",
    "        word = word.replace('\\n','')\n",
    "        word = word.replace('\\\\n','')\n",
    "        word = word.replace('٪','')\n",
    "        word = word.replace('،','')\n",
    "        word = word.replace('؟','')\n",
    "        word = word.replace('!','')\n",
    "        word = word.replace('ء','')\n",
    "        word = word.replace('“','')\n",
    "        word = word.replace('\\\\n\\\\/','')\n",
    "        word = word.replace('۔','')\n",
    "        word = word.replace('.','')\n",
    "        word = word.replace(':','')\n",
    "        word = word.replace('(','')\n",
    "        word = word.replace(')','')\n",
    "        word = word.replace('‘','')\n",
    "        word = word.replace('’','')\n",
    "        word = word.replace(' ','')\n",
    "        word = word.replace('\\ufeff','')\n",
    "        return word"
   ]
  },
  {
   "cell_type": "code",
   "execution_count": null,
   "metadata": {
    "id": "WF70CrIoXayb"
   },
   "outputs": [],
   "source": [
    "def remove_duplicate_words(string):\n",
    "        x = string.split()\n",
    "        x = sorted(set(x), key = x.index)\n",
    "        return ' '.join(x)"
   ]
  },
  {
   "cell_type": "code",
   "execution_count": null,
   "metadata": {
    "id": "vb1JSVa7XdKn"
   },
   "outputs": [],
   "source": [
    "#convertion of text into words\n",
    "def words(text): \n",
    "  return re.findall(r'\\w+', text)"
   ]
  },
  {
   "cell_type": "markdown",
   "metadata": {
    "id": "jNThfXAqgCj3"
   },
   "source": [
    "## Loading Training Dataset for **Naive Bayes** and **Binary Naive bayes with Stopwords**"
   ]
  },
  {
   "cell_type": "markdown",
   "metadata": {
    "id": "s-BnOyKcXR7G"
   },
   "source": [
    "\n",
    "\n",
    "**1.   Fake news**\n",
    "\n"
   ]
  },
  {
   "cell_type": "code",
   "execution_count": null,
   "metadata": {
    "id": "AkJEeTohf9KV"
   },
   "outputs": [],
   "source": [
    "FakeNews_list = []\n",
    "\n",
    "for filename in sorted(glob.glob(\"/content/drive/MyDrive/dataset_NLP_A5/Train/Fake/*.txt\")):\n",
    "    with open(filename, 'r') as f:\n",
    "      i = f.read()\n",
    "      sentence = unlp(i)\n",
    "      news =  ''\n",
    "      for word in sentence:\n",
    "\n",
    "        #remove punctuation\n",
    "        word = removePunctuation(word)\n",
    "        news += word + ' '\n",
    "       \n",
    "      FakeNews_list.append(news) \n",
    "    f.close()\n"
   ]
  },
  {
   "cell_type": "code",
   "execution_count": null,
   "metadata": {
    "id": "io5IsFRwx5gp"
   },
   "outputs": [],
   "source": [
    "FakeNews_list"
   ]
  },
  {
   "cell_type": "markdown",
   "metadata": {
    "id": "iyc2Q1hwXXSL"
   },
   "source": [
    "\n",
    "**2.   Real news**\n",
    "\n"
   ]
  },
  {
   "cell_type": "code",
   "execution_count": null,
   "metadata": {
    "id": "KEcs9lIxgK_p"
   },
   "outputs": [],
   "source": [
    "RealNews_list = []\n",
    "\n",
    "for filename in sorted(glob.glob(\"/content/drive/MyDrive/dataset_NLP_A5/Train/Real/*.txt\")):\n",
    "    with open(filename, 'r') as f:\n",
    "      i = f.read()\n",
    "      sentence = unlp(i)\n",
    "      news =  ''\n",
    "      for word in sentence:\n",
    "\n",
    "        #remove punctuation\n",
    "        word = removePunctuation(word)\n",
    "        news += word + ' '\n",
    "       \n",
    "      RealNews_list.append(news)  \n",
    "    f.close()\n"
   ]
  },
  {
   "cell_type": "code",
   "execution_count": null,
   "metadata": {
    "id": "kmtI5ztCyuFB"
   },
   "outputs": [],
   "source": [
    "RealNews_list"
   ]
  },
  {
   "cell_type": "markdown",
   "metadata": {
    "id": "kRIZ__SUXkaS"
   },
   "source": [
    "**Merging Fake and Real news**"
   ]
  },
  {
   "cell_type": "code",
   "execution_count": null,
   "metadata": {
    "id": "jfM4NWSMiHAQ"
   },
   "outputs": [],
   "source": [
    "AllNews_list =  FakeNews_list + RealNews_list"
   ]
  },
  {
   "cell_type": "code",
   "execution_count": null,
   "metadata": {
    "colab": {
     "base_uri": "https://localhost:8080/"
    },
    "id": "AtSpdAlKiR0f",
    "outputId": "fc27878a-d017-42af-ee00-c7ba30dfc706"
   },
   "outputs": [
    {
     "name": "stdout",
     "output_type": "stream",
     "text": [
      "288\n",
      "350\n",
      "638\n"
     ]
    }
   ],
   "source": [
    "print(len(FakeNews_list))\n",
    "print(len(RealNews_list))\n",
    "print(len(AllNews_list))"
   ]
  },
  {
   "cell_type": "markdown",
   "metadata": {
    "id": "avVdncHMer79"
   },
   "source": [
    "**Counting words in combined set of Fake and Real news after removing duplicates (V)**\n",
    "\n"
   ]
  },
  {
   "cell_type": "code",
   "execution_count": null,
   "metadata": {
    "id": "oKkx5XWoogjp"
   },
   "outputs": [],
   "source": [
    "#Converting complete list of news into a single string\n",
    "\n",
    "Allnews = ''\n",
    "for news in AllNews_list:\n",
    "  Allnews += news"
   ]
  },
  {
   "cell_type": "code",
   "execution_count": null,
   "metadata": {
    "colab": {
     "base_uri": "https://localhost:8080/"
    },
    "id": "aUFIeywgoPXT",
    "outputId": "42d203a5-bafb-4d2b-e89b-6fb6062135bd"
   },
   "outputs": [
    {
     "data": {
      "text/plain": [
       "14235"
      ]
     },
     "execution_count": 106,
     "metadata": {
      "tags": []
     },
     "output_type": "execute_result"
    }
   ],
   "source": [
    "#counting words after removing duplicate words from the news string\n",
    "vocab = list(unlp(remove_duplicate_words(Allnews)))\n",
    "V = len(vocab)\n",
    "V"
   ]
  },
  {
   "cell_type": "markdown",
   "metadata": {
    "id": "JTJ6Si7GqFrs"
   },
   "source": [
    "**Calculation of prior[c] where c = [real, fake]**"
   ]
  },
  {
   "cell_type": "code",
   "execution_count": null,
   "metadata": {
    "colab": {
     "base_uri": "https://localhost:8080/"
    },
    "id": "jJvMT5peUTGk",
    "outputId": "7854c017-2943-40bf-a448-58573c1fa9fd"
   },
   "outputs": [
    {
     "name": "stdout",
     "output_type": "stream",
     "text": [
      "288\n",
      "350\n"
     ]
    },
    {
     "data": {
      "text/plain": [
       "638"
      ]
     },
     "execution_count": 107,
     "metadata": {
      "tags": []
     },
     "output_type": "execute_result"
    }
   ],
   "source": [
    "# Fake and real news count\n",
    "fake_NewsCount = len(FakeNews_list)\n",
    "real_NewsCount = len(RealNews_list)\n",
    "N = fake_NewsCount + real_NewsCount\n",
    "\n",
    "print(fake_NewsCount)\n",
    "print(real_NewsCount)\n",
    "N"
   ]
  },
  {
   "cell_type": "code",
   "execution_count": null,
   "metadata": {
    "colab": {
     "base_uri": "https://localhost:8080/"
    },
    "id": "2-RkD-yTs4OM",
    "outputId": "aef52efb-7efd-4454-cf02-48260daec346"
   },
   "outputs": [
    {
     "data": {
      "text/plain": [
       "{'fake': 0.45141065830721006, 'real': 0.54858934169279}"
      ]
     },
     "execution_count": 108,
     "metadata": {
      "tags": []
     },
     "output_type": "execute_result"
    }
   ],
   "source": [
    "prior = {}\n",
    "prior['real'] = real_NewsCount/N\n",
    "prior['fake'] = fake_NewsCount/N\n",
    "prior"
   ]
  },
  {
   "cell_type": "markdown",
   "metadata": {
    "id": "2GNkbbNmf1RK"
   },
   "source": [
    "# **Naive Bayes classifer**"
   ]
  },
  {
   "cell_type": "markdown",
   "metadata": {
    "id": "J2LSfVsKfTFz"
   },
   "source": [
    "\n",
    "*   Counting words in Fake and Real news seperately **Without** removing duplicates **(Nw)**\n",
    "\n",
    "\n",
    "\n",
    "\n",
    "\n"
   ]
  },
  {
   "cell_type": "code",
   "execution_count": null,
   "metadata": {
    "colab": {
     "base_uri": "https://localhost:8080/"
    },
    "id": "hfLmziT6zA26",
    "outputId": "de943082-35dd-4084-ac48-aff514cf9734"
   },
   "outputs": [
    {
     "data": {
      "text/plain": [
       "88102"
      ]
     },
     "execution_count": 109,
     "metadata": {
      "tags": []
     },
     "output_type": "execute_result"
    }
   ],
   "source": [
    "#Fake news\n",
    "Fakenews = ''\n",
    "for news in FakeNews_list:\n",
    "  Fakenews += news\n",
    "\n",
    "Fakenews_vocab_count = len(unlp(Fakenews))\n",
    "Fakenews_vocab_count"
   ]
  },
  {
   "cell_type": "code",
   "execution_count": null,
   "metadata": {
    "colab": {
     "base_uri": "https://localhost:8080/"
    },
    "id": "VJGOllPDzA3j",
    "outputId": "05e60fa8-5e38-4d8e-f5bf-998ac4b8e667"
   },
   "outputs": [
    {
     "data": {
      "text/plain": [
       "131303"
      ]
     },
     "execution_count": 110,
     "metadata": {
      "tags": []
     },
     "output_type": "execute_result"
    }
   ],
   "source": [
    "#Real news\n",
    "Realnews = ''\n",
    "for news in RealNews_list:\n",
    "  Realnews += news\n",
    "\n",
    "Realnews_vocab_count = len(unlp(Realnews))\n",
    "Realnews_vocab_count"
   ]
  },
  {
   "cell_type": "markdown",
   "metadata": {
    "id": "pPW2duI5f1jb"
   },
   "source": [
    "\n",
    "\n",
    "*   Calculating number of occurances of each word in fake and real news list **Without** removing duplicates from each news **(Ni)**\n",
    "\n"
   ]
  },
  {
   "cell_type": "code",
   "execution_count": null,
   "metadata": {
    "id": "FfKF7rqxv1NR"
   },
   "outputs": [],
   "source": [
    "#Fake news\n",
    "Fakenews_Ni = ''\n",
    "for news in FakeNews_list:\n",
    "  Fakenews_Ni += news\n",
    "\n",
    "Fakenews_Ni = Counter(words(Fakenews_Ni))\n",
    "Fakenews_Ni"
   ]
  },
  {
   "cell_type": "code",
   "execution_count": null,
   "metadata": {
    "id": "67xbTb3Uv1Nq"
   },
   "outputs": [],
   "source": [
    "#Real news\n",
    "Realnews_Ni = ''\n",
    "for news in RealNews_list:\n",
    "  Realnews_Ni += news\n",
    "\n",
    "Realnews_Ni = Counter(words(Realnews_Ni))\n",
    "Realnews_Ni"
   ]
  },
  {
   "cell_type": "markdown",
   "metadata": {
    "id": "wEyXimXqgOVu"
   },
   "source": [
    "**Calculating Conditional probability of each word present in Vocabulary with simple Naive Bayes clasifier**\n",
    "\n",
    "\n",
    "![image.png](data:image/png;base64,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) using this equation"
   ]
  },
  {
   "cell_type": "code",
   "execution_count": null,
   "metadata": {
    "id": "8tNoHUGV7YD8"
   },
   "outputs": [],
   "source": [
    "Fake_condProb_NB = {}\n",
    "Real_condProb_NB = {}\n",
    "\n",
    "for word in vocab:\n",
    "  word = str(word)\n",
    "\n",
    "  prob_f = (Fakenews_Ni[word] + 1)/(Fakenews_vocab_count + V)\n",
    "  Fake_condProb_NB[word] = prob_f\n",
    "\n",
    "  prob_r = (Realnews_Ni[word] + 1)/(Realnews_vocab_count + V)\n",
    "  Real_condProb_NB[word] = prob_r\n",
    "  "
   ]
  },
  {
   "cell_type": "code",
   "execution_count": null,
   "metadata": {
    "colab": {
     "base_uri": "https://localhost:8080/"
    },
    "id": "UDyZiQQAabEQ",
    "outputId": "05c172ae-48e8-4a93-e78f-c0577d1e34b9"
   },
   "outputs": [
    {
     "name": "stdout",
     "output_type": "stream",
     "text": [
      "0.00023451928432531734\n",
      "0.00024048702057194685\n"
     ]
    }
   ],
   "source": [
    "print(Fake_condProb_NB['عمران'])\n",
    "print(Real_condProb_NB['عمران'])"
   ]
  },
  {
   "cell_type": "markdown",
   "metadata": {
    "id": "XjGSXMSorZsq"
   },
   "source": [
    "# **Boolean Naive Bayes classifer with stop words**"
   ]
  },
  {
   "cell_type": "markdown",
   "metadata": {
    "id": "WCzUIJiigniN"
   },
   "source": [
    "\n",
    "*  Counting words in Fake and Real news seperately **After** removing duplicates **(Nw)**\n",
    "\n"
   ]
  },
  {
   "cell_type": "code",
   "execution_count": null,
   "metadata": {
    "colab": {
     "base_uri": "https://localhost:8080/"
    },
    "id": "HvrkrlSwwg8x",
    "outputId": "95d70a15-c437-4030-c419-b81cfbd4e4e3"
   },
   "outputs": [
    {
     "data": {
      "text/plain": [
       "43707"
      ]
     },
     "execution_count": 132,
     "metadata": {
      "tags": []
     },
     "output_type": "execute_result"
    }
   ],
   "source": [
    "#Fake news\n",
    "Fakenews = ''\n",
    "for news in FakeNews_list:\n",
    "  Fakenews += remove_duplicate_words(news)\n",
    "\n",
    "Fakenews_vocab_count = len(unlp(Fakenews))\n",
    "Fakenews_vocab_count"
   ]
  },
  {
   "cell_type": "code",
   "execution_count": null,
   "metadata": {
    "colab": {
     "base_uri": "https://localhost:8080/"
    },
    "id": "bu0zE-QHwg9A",
    "outputId": "05e7df71-8cd0-438b-a72e-02b85f9362a4"
   },
   "outputs": [
    {
     "data": {
      "text/plain": [
       "60182"
      ]
     },
     "execution_count": 133,
     "metadata": {
      "tags": []
     },
     "output_type": "execute_result"
    }
   ],
   "source": [
    "#Real news\n",
    "Realnews = ''\n",
    "for news in RealNews_list:\n",
    "  Realnews += remove_duplicate_words(news)\n",
    "\n",
    "Realnews_vocab_count = len(unlp(Realnews))\n",
    "Realnews_vocab_count"
   ]
  },
  {
   "cell_type": "markdown",
   "metadata": {
    "id": "ygkDuKOghEZ0"
   },
   "source": [
    "\n",
    "*   Calculating number of occurances of each word in fake and real news list **After** removing duplicates from each news **(Ni)**\n",
    "\n",
    "\n",
    "\n",
    "\n"
   ]
  },
  {
   "cell_type": "code",
   "execution_count": null,
   "metadata": {
    "id": "ktM25oNqGw_p"
   },
   "outputs": [],
   "source": [
    "#Real news\n",
    "Fakenews_Ni = ''\n",
    "for news in FakeNews_list:\n",
    "  Fakenews_Ni += remove_duplicate_words(news)\n",
    "\n",
    "Fakenews_Ni = Counter(words(Fakenews_Ni))\n",
    "Fakenews_Ni"
   ]
  },
  {
   "cell_type": "code",
   "execution_count": null,
   "metadata": {
    "id": "xwXgbj3IGEL-"
   },
   "outputs": [],
   "source": [
    "#Fake news\n",
    "Realnews_Ni = ''\n",
    "for news in RealNews_list:\n",
    "  Realnews_Ni += remove_duplicate_words(news)\n",
    "\n",
    "Realnews_Ni = Counter(words(Realnews_Ni))\n",
    "Realnews_Ni"
   ]
  },
  {
   "cell_type": "markdown",
   "metadata": {
    "id": "psllZZnytgQE"
   },
   "source": [
    "**Calculating Conditional probability of each word present in Vocabulary**\n",
    "\n",
    "![image.png](data:image/png;base64,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) using this equation"
   ]
  },
  {
   "cell_type": "code",
   "execution_count": null,
   "metadata": {
    "id": "gpqqefUJr68w"
   },
   "outputs": [],
   "source": [
    "Fake_condProb_with_SW = {}\n",
    "Real_condProb_with_SW = {}\n",
    "\n",
    "for word in vocab:\n",
    "  word = str(word)\n",
    "\n",
    "  prob_f = (Fakenews_Ni[word] + 1)/(Fakenews_vocab_count + V)\n",
    "  Fake_condProb_with_SW[word] = prob_f\n",
    "\n",
    "  prob_r = (Realnews_Ni[word] + 1)/(Realnews_vocab_count + V)\n",
    "  Real_condProb_with_SW[word] = prob_r\n",
    "  "
   ]
  },
  {
   "cell_type": "code",
   "execution_count": null,
   "metadata": {
    "colab": {
     "base_uri": "https://localhost:8080/"
    },
    "id": "EVvP52pDr68x",
    "outputId": "2884921f-8d28-414f-a896-fe73de72b15a"
   },
   "outputs": [
    {
     "name": "stdout",
     "output_type": "stream",
     "text": [
      "0.00018984501743122433\n",
      "0.00021500463603746456\n"
     ]
    }
   ],
   "source": [
    "print(Fake_condProb_with_SW['عمران'])\n",
    "print(Real_condProb_with_SW['عمران'])"
   ]
  },
  {
   "cell_type": "markdown",
   "metadata": {
    "id": "eBOV8QZEsifj"
   },
   "source": [
    "# **Boolean Naive Bayes Clasifier without stop words**"
   ]
  },
  {
   "cell_type": "markdown",
   "metadata": {
    "id": "Eb5-8dQ3U4fq"
   },
   "source": [
    "Loading Stop words to remove them from the real and fake news for training and testing"
   ]
  },
  {
   "cell_type": "code",
   "execution_count": null,
   "metadata": {
    "id": "4EmfWaCo4Fte"
   },
   "outputs": [],
   "source": [
    "with open('/content/drive/MyDrive/dataset_NLP_A5/stopwords-ur.txt', 'r') as f:\n",
    "  stop_words = f.read()"
   ]
  },
  {
   "cell_type": "code",
   "execution_count": null,
   "metadata": {
    "colab": {
     "base_uri": "https://localhost:8080/",
     "height": 137
    },
    "id": "UwrCP5CvQlIc",
    "outputId": "8751a351-5457-4245-9101-5fe22589395c"
   },
   "outputs": [
    {
     "data": {
      "application/vnd.google.colaboratory.intrinsic+json": {
       "type": "string"
      },
      "text/plain": [
       "'آئی\\nآئے\\nآج\\nآخر\\nآخرکبر\\nآدهی\\nآًب\\nآٹھ\\nآیب\\nاة\\nاخبزت\\nاختتبم\\nادھر\\nارد\\nاردگرد\\nارکبى\\nاش\\nاضتعوبل\\nاضتعوبلات\\nاضطرذ\\nاضکب\\nاضکی\\nاضکے\\nاطراف\\nاغیب\\nافراد\\nالگ\\nاور\\nاوًچب\\nاوًچبئی\\nاوًچی\\nاوًچے\\nاى\\nاً\\nاًذر\\nاًہیں\\nاٹھبًب\\nاپٌب\\nاپٌے\\nاچھب\\nاچھی\\nاچھے\\nاکثر\\nاکٹھب\\nاکٹھی\\nاکٹھے\\nاکیلا\\nاکیلی\\nاکیلے\\nاگرچہ\\nاہن\\nایطے\\nایک\\nب\\nت\\nتبزٍ\\nتت\\nتر\\nترتیت\\nتریي\\nتعذاد\\nتن\\nتو\\nتوبم\\nتوہی\\nتوہیں\\nتٌہب\\nتک\\nتھب\\nتھوڑا\\nتھوڑی\\nتھوڑے\\nتھی\\nتھے\\nتیي\\nثب\\nثبئیں\\nثبترتیت\\nثبری\\nثبرے\\nثبعث\\nثبلا\\nثبلترتیت\\nثبہر\\nثدبئے\\nثرآں\\nثراں\\nثرش\\nثعذ\\nثغیر\\nثلٌذ\\nثلٌذوثبلا\\nثلکہ\\nثي\\nثٌب\\nثٌبرہب\\nثٌبرہی\\nثٌبرہے\\nثٌبًب\\nثٌذ\\nثٌذکرو\\nثٌذکرًب\\nثٌذی\\nثڑا\\nثڑوں\\nثڑی\\nثڑے\\nثھر\\nثھرا\\nثھراہوا\\nثھرپور\\nثھی\\nثہت\\nثہتر\\nثہتری\\nثہتریي\\nثیچ\\nج\\nخب\\nخبرہب\\nخبرہی\\nخبرہے\\nخبهوظ\\nخبًب\\nخبًتب\\nخبًتی\\nخبًتے\\nخبًٌب\\nخت\\nختن\\nخجکہ\\nخص\\nخططرذ\\nخلذی\\nخو\\nخواى\\nخوًہی\\nخوکہ\\nخٌبة\\nخگہ\\nخگہوں\\nخگہیں\\nخیطب\\nخیطبکہ\\nدر\\nدرخبت\\nدرخہ\\nدرخے\\nدرزقیقت\\nدرضت\\nدش\\nدفعہ\\nدلچطپ\\nدلچطپی\\nدلچطپیبں\\nدو\\nدور\\nدوراى\\nدوضرا\\nدوضروں\\nدوضری\\nدوضرے\\nدوًوں\\nدکھبئیں\\nدکھبتب\\nدکھبتی\\nدکھبتے\\nدکھبو\\nدکھبًب\\nدکھبیب\\nدی\\nدیب\\nدیتب\\nدیتی\\nدیتے\\nدیر\\nدیٌب\\nدیکھو\\nدیکھٌب\\nدیکھی\\nدیکھیں\\nدے\\nر\\nراضتوں\\nراضتہ\\nراضتے\\nرریعہ\\nرریعے\\nرکي\\nرکھ\\nرکھب\\nرکھتب\\nرکھتبہوں\\nرکھتی\\nرکھتے\\nرکھی\\nرکھے\\nرہب\\nرہی\\nرہے\\nز\\nزبصل\\nزبضر\\nزبل\\nزبلات\\nزبلیہ\\nزصوں\\nزصہ\\nزصے\\nزقبئق\\nزقیتیں\\nزقیقت\\nزکن\\nزکویہ\\nزیبدٍ\\nصبف\\nصسیر\\nصفر\\nصورت\\nصورتسبل\\nصورتوں\\nصورتیں\\nض\\nضبت\\nضبتھ\\nضبدٍ\\nضبرا\\nضبرے\\nضبل\\nضبلوں\\nضت\\nضرور\\nضرورت\\nضروری\\nضلطلہ\\nضوچ\\nضوچب\\nضوچتب\\nضوچتی\\nضوچتے\\nضوچو\\nضوچٌب\\nضوچی\\nضوچیں\\nضکب\\nضکتب\\nضکتی\\nضکتے\\nضکٌب\\nضکی\\nضکے\\nضیذھب\\nضیذھی\\nضیذھے\\nضیکٌڈ\\nضے\\nطرف\\nطریق\\nطریقوں\\nطریقہ\\nطریقے\\nطور\\nطورپر\\nظبہر\\nع\\nعذد\\nعظین\\nعلاقوں\\nعلاقہ\\nعلاقے\\nعلاوٍ\\nعووهی\\nغبیذ\\nغخص\\nغذ\\nغروع\\nغروعبت\\nغے\\nفرد\\nفی\\nق\\nقجل\\nقجیلہ\\nقطن\\nلئے\\nلا\\nلازهی\\nلو\\nلوجب\\nلوجی\\nلوجے\\nلوسبت\\nلوسہ\\nلوگ\\nلوگوں\\nلڑکپي\\nلگتب\\nلگتی\\nلگتے\\nلگٌب\\nلگی\\nلگیں\\nلگے\\nلی\\nلیب\\nلیٌب\\nلیں\\nلے\\nه\\nهتعلق\\nهختلف\\nهسترم\\nهسترهہ\\nهسطوش\\nهسیذ\\nهطئلہ\\nهطئلے\\nهطبئل\\nهطتعول\\nهطلق\\nهعلوم\\nهػتول\\nهلا\\nهوکي\\nهوکٌبت\\nهوکٌہ\\nهٌبضت\\nهڑا\\nهڑًب\\nهڑے\\nهکول\\nهگر\\nهہرثبى\\nهیرا\\nهیری\\nهیرے\\nهیں\\nو\\nوار\\nوالے\\nوٍ\\nًئی\\nًئے\\nًب\\nًبپطٌذ\\nًبگسیر\\nًطجت\\nًقطہ\\nًو\\nًوخواى\\nًکبلٌب\\nًکتہ\\nًہ\\nًہیں\\nًیب\\nًے\\nٓ آش\\nٹھیک\\nپبئے\\nپبش\\nپبًب\\nپبًچ\\nپر\\nپراًب\\nپطٌذ\\nپل\\nپورا\\nپوچھب\\nپوچھتب\\nپوچھتی\\nپوچھتے\\nپوچھو\\nپوچھوں\\nپوچھٌب\\nپوچھیں\\nپچھلا\\nپھر\\nپہلا\\nپہلی\\nپہلےضی\\nپہلےضے\\nپہلےضےہی\\nپیع\\nچبر\\nچبہب\\nچبہٌب\\nچبہے\\nچلا\\nچلو\\nچلیں\\nچلے\\nچکب\\nچکی\\nچکیں\\nچکے\\nچھوٹب\\nچھوٹوں\\nچھوٹی\\nچھوٹے\\nچھہ\\nچیسیں\\nڈھوًڈا\\nڈھوًڈلیب\\nڈھوًڈو\\nڈھوًڈًب\\nڈھوًڈی\\nڈھوًڈیں\\nک\\nکئی\\nکئے\\nکب\\nکبفی\\nکبم\\nکت\\nکجھی\\nکرا\\nکرتب\\nکرتبہوں\\nکرتی\\nکرتے\\nکرتےہو\\nکررہب\\nکررہی\\nکررہے\\nکرو\\nکرًب\\nکریں\\nکرے\\nکطی\\nکل\\nکن\\nکوئی\\nکوتر\\nکورا\\nکوروں\\nکورٍ\\nکورے\\nکوطي\\nکوى\\nکوًطب\\nکوًطی\\nکوًطے\\nکھولا\\nکھولو\\nکھولٌب\\nکھولی\\nکھولیں\\nکھولے\\nکہ\\nکہب\\nکہتب\\nکہتی\\nکہتے\\nکہو\\nکہوں\\nکہٌب\\nکہی\\nکہیں\\nکہے\\nکی\\nکیب\\nکیطب\\nکیطرف\\nکیطے\\nکیلئے\\nکیوًکہ\\nکیوں\\nکیے\\nکے\\nکےثعذ\\nکےرریعے\\nگئی\\nگئے\\nگب\\nگرد\\nگروٍ\\nگروپ\\nگروہوں\\nگٌتی\\nگی\\nگیب\\nگے\\nہر\\nہن\\nہو\\nہوئی\\nہوئے\\nہوا\\nہوبرا\\nہوبری\\nہوبرے\\nہوتب\\nہوتی\\nہوتے\\nہورہب\\nہورہی\\nہورہے\\nہوضکتب\\nہوضکتی\\nہوضکتے\\nہوًب\\nہوًی\\nہوًے\\nہوچکب\\nہوچکی\\nہوچکے\\nہوگئی\\nہوگئے\\nہوگیب\\nہوں\\nہی\\nہیں\\nہے\\nی\\nیقیٌی\\nیہ\\nیہبں'"
      ]
     },
     "execution_count": 54,
     "metadata": {
      "tags": []
     },
     "output_type": "execute_result"
    }
   ],
   "source": [
    "stop_words"
   ]
  },
  {
   "cell_type": "markdown",
   "metadata": {
    "id": "loaXslBoP4N-"
   },
   "source": [
    "## Loading Training Dataset with the removal of stop words"
   ]
  },
  {
   "cell_type": "markdown",
   "metadata": {
    "id": "DT02Ik7DiJv0"
   },
   "source": [
    "\n",
    "\n",
    "1.   **Fake News**\n",
    "\n"
   ]
  },
  {
   "cell_type": "code",
   "execution_count": null,
   "metadata": {
    "id": "KGO4ywCss1ym"
   },
   "outputs": [],
   "source": [
    "FakeNews_list = []\n",
    "\n",
    "for filename in sorted(glob.glob(\"/content/drive/MyDrive/dataset_NLP_A5/Train/Fake/*.txt\")):\n",
    "    with open(filename, 'r') as f:\n",
    "      i = f.read()\n",
    "\n",
    "      sentence = unlp(i)\n",
    "      news =  ''\n",
    "      for word in sentence:\n",
    "        #remove punctuation\n",
    "        word = removePunctuation(word)\n",
    "        \n",
    "        #remove stop words\n",
    "        if word not in stop_words:\n",
    "          news += word + ' '\n",
    "       \n",
    "      FakeNews_list.append(news) \n",
    "    f.close()"
   ]
  },
  {
   "cell_type": "code",
   "execution_count": null,
   "metadata": {
    "id": "0qFN2e8g32zp"
   },
   "outputs": [],
   "source": [
    "FakeNews_list"
   ]
  },
  {
   "cell_type": "markdown",
   "metadata": {
    "id": "5ZvxZ0kMiQIp"
   },
   "source": [
    "\n",
    "\n",
    "2.   **Real News**\n",
    "\n"
   ]
  },
  {
   "cell_type": "code",
   "execution_count": null,
   "metadata": {
    "id": "AF3enl_js1yq"
   },
   "outputs": [],
   "source": [
    "RealNews_list = []\n",
    "\n",
    "for filename in sorted(glob.glob(\"/content/drive/MyDrive/dataset_NLP_A5/Train/Real/*.txt\")):\n",
    "    with open(filename, 'r') as f:\n",
    "      i = f.read()\n",
    "\n",
    "      sentence = unlp(i)\n",
    "      news =  ''\n",
    "      for word in sentence:\n",
    "\n",
    "        #remove punctuation\n",
    "        word = removePunctuation(word)\n",
    "\n",
    "        #remove stop words\n",
    "        if word not in stop_words:\n",
    "          news += word + ' '\n",
    "       \n",
    "      RealNews_list.append(news)  \n",
    "    f.close()"
   ]
  },
  {
   "cell_type": "code",
   "execution_count": null,
   "metadata": {
    "id": "nD80ZH7Rs1yr"
   },
   "outputs": [],
   "source": [
    "RealNews_list"
   ]
  },
  {
   "cell_type": "markdown",
   "metadata": {
    "id": "P6eVLbS3QRvE"
   },
   "source": [
    "**Merging Fake and Real news**"
   ]
  },
  {
   "cell_type": "code",
   "execution_count": null,
   "metadata": {
    "id": "AVTtN3iIs1y0"
   },
   "outputs": [],
   "source": [
    "AllNews_list =  FakeNews_list + RealNews_list"
   ]
  },
  {
   "cell_type": "markdown",
   "metadata": {
    "id": "Hnh0GqyuQb0F"
   },
   "source": [
    "Counting words in combined set of Fake and Real news **After** removing duplicates **(V)**"
   ]
  },
  {
   "cell_type": "code",
   "execution_count": null,
   "metadata": {
    "id": "7Ie4Ma2ss1y4"
   },
   "outputs": [],
   "source": [
    "#Converting complete list of news into a single string\n",
    "Allnews = ''\n",
    "for news in AllNews_list:\n",
    "  Allnews += news"
   ]
  },
  {
   "cell_type": "code",
   "execution_count": null,
   "metadata": {
    "colab": {
     "base_uri": "https://localhost:8080/"
    },
    "id": "wRBea-FXs1y5",
    "outputId": "baff02de-0b22-4b56-c19e-f894ef891070"
   },
   "outputs": [
    {
     "data": {
      "text/plain": [
       "13900"
      ]
     },
     "execution_count": 60,
     "metadata": {
      "tags": []
     },
     "output_type": "execute_result"
    }
   ],
   "source": [
    "#counting words after removing duplicate words from the news string\n",
    "vocab = list(unlp(remove_duplicate_words(Allnews)))\n",
    "V = len(vocab)\n",
    "V"
   ]
  },
  {
   "cell_type": "markdown",
   "metadata": {
    "id": "MTP14cfiRNoC"
   },
   "source": [
    "\n",
    "\n",
    "\n",
    "*   Counting words in Fake and Real news seperately **After** removing duplicates **(Nw)**\n",
    "\n"
   ]
  },
  {
   "cell_type": "code",
   "execution_count": null,
   "metadata": {
    "colab": {
     "base_uri": "https://localhost:8080/"
    },
    "id": "i4rFskIus1y7",
    "outputId": "1c676839-fba6-40ea-dafc-5633cc14fea4"
   },
   "outputs": [
    {
     "data": {
      "text/plain": [
       "36046"
      ]
     },
     "execution_count": 61,
     "metadata": {
      "tags": []
     },
     "output_type": "execute_result"
    }
   ],
   "source": [
    "Fakenews = ''\n",
    "for news in FakeNews_list:\n",
    "  Fakenews += remove_duplicate_words(news)\n",
    "\n",
    "Fakenews_vocab_count = len(unlp(Fakenews))\n",
    "Fakenews_vocab_count"
   ]
  },
  {
   "cell_type": "code",
   "execution_count": null,
   "metadata": {
    "colab": {
     "base_uri": "https://localhost:8080/"
    },
    "id": "OaZ_FrRNs1y8",
    "outputId": "41c89a44-8bf6-4e1a-9293-8241c6d6096d"
   },
   "outputs": [
    {
     "data": {
      "text/plain": [
       "50100"
      ]
     },
     "execution_count": 62,
     "metadata": {
      "tags": []
     },
     "output_type": "execute_result"
    }
   ],
   "source": [
    "Realnews = ''\n",
    "for news in RealNews_list:\n",
    "  Realnews += remove_duplicate_words(news)\n",
    "\n",
    "Realnews_vocab_count = len(unlp(Realnews))\n",
    "Realnews_vocab_count"
   ]
  },
  {
   "cell_type": "markdown",
   "metadata": {
    "id": "JQ_mGhlGSyvC"
   },
   "source": [
    "\n",
    "*   Calculating number of occurances of each word in fake and real news list **After** removing duplicates from each news **(Ni)**\n"
   ]
  },
  {
   "cell_type": "code",
   "execution_count": null,
   "metadata": {
    "id": "slUQFceTs1zD"
   },
   "outputs": [],
   "source": [
    "#Fake news\n",
    "Fakenews_Ni = ''\n",
    "for news in FakeNews_list:\n",
    "  Fakenews_Ni += remove_duplicate_words(news)\n",
    "\n",
    "Fakenews_Ni = Counter(words(Fakenews_Ni))\n",
    "Fakenews_Ni"
   ]
  },
  {
   "cell_type": "code",
   "execution_count": null,
   "metadata": {
    "id": "BTj-mMNRs1zE"
   },
   "outputs": [],
   "source": [
    "#Feal news\n",
    "Realnews_Ni = ''\n",
    "for news in RealNews_list:\n",
    "  Realnews_Ni += remove_duplicate_words(news)\n",
    "\n",
    "Realnews_Ni = Counter(words(Realnews_Ni))\n",
    "Realnews_Ni"
   ]
  },
  {
   "cell_type": "markdown",
   "metadata": {
    "id": "HevyHqOUs1zE"
   },
   "source": [
    "**Calculating Conditional probability of each word present in Vocabulary**\n",
    "\n",
    "![image.png](data:image/png;base64,iVBORw0KGgoAAAANSUhEUgAAARcAAABACAYAAAAwLzMvAAAY2ElEQVR4Ae1d709T2bref0C/9GM/mJgQEj6YEEP4gCE38kHihASME0JQ0xSjAeKQVomtGn4YaTFDzVEaPTDnTOPYcM/0nDsN9049Gc5cO3NgTui5Y71T7kg8dQYIKB0BQQkSfhT2c7P2j3bt3V0oFazgmsRh77XXXvtdz1rr6Vrvetf7cmD/MQQYAgyBHUCA24EyWZEMAYYAQwCMXFgnYAgwBHYEAUYuOwIrK5QhwBBg5ML6AEOAIbAjCDBy2RFYWaEMAYYAIxfWBxgCDIEdQYCRy47AygplCDAEGLmwPsAQYAjsCAKMXHYEVlYoQ4AhwMiF9YE0EFhF9JtLKNRx0BXWo/vhFPikt3gshl04ostHleufmEvOkPQGS9jbCGROLrEphHtduGQ+j6amWpQdOQdX/3PE9jRevyFgPwuj8QTKCg7A6JvY07VVVm4NCyN+NJfsA5d7Hv7oqvIxljHiOQUdx4HTnYZ3fEX1PN3bDxnjdDHaHfkyJJc5PHSWQ2dogO/5MtaGu1BMOlVxF4bXdkfFM5dyFRPeGnBczgdGLgSxNcwHP0URZ0Cp+wnWk0DkEXveizrDYThDC0lP009YRMRd/YFinD5K73vOzMglFoIzhwNX5cUEmf7yC5gYeoShiQWN6fL7DsFW5Ysh6qv9cDv+yk/oPKQHV+HBqObSZwI+00X4p9/mV+YDx3irXfI9zf925GL0IfqeVmznxNrFHZ+fx+h3bjRVForLFzLblP/lXcXAfPJcJBnHWQw0F4EzXEZAK//iIBzGHoykU1Ry4VLKLsY4ZZ0+vAdbJpe1YQ/OnipDgY6srQtQdsoIo7EDgRnxl4pf+BXfeZywWVvQ4XTC2XEVza1d6A1PJfQxa8PwnDXCKJRTC9/4GPq722A1luFI3R30R5fTagnhW/faYam3oq2jDdbaethcf0VkgfrV5F8j4r+J80IeJzqazTCZLsDpDWJiST0C1rEUDaHXdQmmyiqcMpK6mVBr+yMG4jLRHX8MCyMBeLruoNNhRmWZCbbuAURjmj/pyXXiX+Nxjx22aw0oL3Wgf1rWWMUw3d+OivPfYJoUtfgInUf2I9ci3SeXtHlK7BketBxDifkP+NvwdKItNn9TlUNeFtbCF5XllbOsYtLXiDO+8fRnsJLuzlZ7Bubm63A62+Fw/QVf39JeFqXVv2Rx2N+sIrBlchGklZdFOU6EqP7Fzw3CWZ4HfdUf8XN8gK9gOnAVhbpi1H/1C+JqQH4WAy2HwHHHcLHVhfuTswh3HgXH6XCwMwyKHjQB4ucfobs6H7ryOwjL34r9Cq8pD/rqHvy6Kg7wZH3QGhbCd1Cu0yG3/mtE4zzAYynSA1OujpJ/DbN9jdBzHPTmPsyKlZeWRfvxcdstuHr+F3MCmSwg3FkGjsuHue+FpszKRB4rj91ocA9j9c0AmvflodY/KWWZhL82L/HN1afw1hwEp8JbWd4Gd/wMBh1VqO4OYyFe3w3yb/hIJtdKuCNLipz81Dc4f7QDwfnNWk96bWkYHtNBcLkN+PPIG4mQeMSi36KFKI5Veq0t9S+FZOwmGwhsI7m8RshJyKEA1sCMsi5rP6OrWA9OXw/fpEwvCwg5D4Pj9DjU+RNWwGN1/Dt8duMeNUtQFpO4e4PHXR9Dx+1DhecX6leSx5uBVuzjDsMefCVk5yd9qNFz0Nf4MCkPLP4XeCpI56UGCD8Kb3UOOK4IzQMijYDIFPGgOqcANd6nEjHKg4sDd6QbwxKJAYn0HGcojZnBKwTb7fBPrWIx2I4DXBk6w5ISVCAbum48Voe7cUSxDJ1HuPM48u2DWEwAo3m1PuLB8WNuROKyamZLOzEWciKHUyltY6Pw1ZWh3j9BtcdGRS5j3HsGek6HfOdDKOeqct+gleZb7V8bfZs9excIbB+5LD+EM18HTt3phFpMwGckA5f+dZY7ED2Y06yyTFYa3+InvKhSkM46lmaieKlYAsnyJAaI+B7RQWhN92m5UpFIqnT6Xfp6Gb89HccCP4+Q8wi4Qy6EV+jZVgW6hhO0wU/8GbWKGR2P2Mw4nsmzNrpoxfUyRj2mFLs7ioxp34jkQsnHv8bP3UYcqPNhPO0l4Ri8VfuTZieiEHLfoMhly/0r7eqwjDuEwPaRS9QHo6AcTAzYhMzyYOaQ+FWXO5BW/sSbmlfTftQSnQ+XgzKzHU6i25H/NRtRoFhaET3KEALeLjiar+FWVxe6PV2wHjYoiFAcMO+SXKSaCUS5nxr8hKTqoFMoTNcxH+jA1fiMShOVFIkyzpTyVlbi0n/TVujKs0OZhJcR7WtCUQmtM0ohCp0sL61VSx8xiywzRS5b7l/0x9h1NhDYPnIRpvKkA2uRhUwu+1HlHZOmzXIH0sq/CRQbfot+lyhGHSjR7UNJ838h8kpeksnyJL6dmLnUwDsh56PLkq9TzVBSpcvvaf/lRz2o4I7AGZqXMoi7MTqTj9IHvULw+u+k3Zk1zD28i5amcygv7cDg3Gb6DSLXOfxb18+b6rG0JVSnyvUk5PIG0QdtKMk7C/fj12kuh6Ty+C3OXDZsc7k96f6llpvdv2sEto9c8BIDzcXguFyY1LsF8pRWdwqeEXl1/Rbkwk8hYCPKYI1vEbObV8P471AU6/Hlk5ow5M6YIBesP4XnGJmmH4Sl7zflQOFfIvTlA4wK41geXPQsjDRbqvSNm1ScMcmzAJJXlC0xwwP42QCutg9AoJ/FH3GjsRfPX/bBYqB0Rht8RtA7FX+avqJ1g7Li9TR8gs//0ooS/Udo7VfhteH78kPZoleP4iTik/sGNXPZcv+Sv8P+ZguBbSSXhJZfV+7Cwznp159/g/HeRuRxB2FyD1G7FXIHogZ42ihQ3yq5hr5xaqdhbgje8/XoDM8D/Dh8NXnguOPoGn4jlc4jNv4VLEUkvRj24GspfQ0Lj78Qdot0JW14EN96Xkb0wXWcdj2SFKepSCRV+saV4qf8qNPL8vGITfphydNhX/MABIn5VwjfbkfPr5L+JfYSY89m8dxXD8MxT5r2JAuIeD5BRcu36W+TpxT7jbSrR0wRPkLLg2dpKK+1C+MXhuAmu0VFNPEl2la5W5RIT69/aX+Tpb47BLZMLlp2Lmc9w9KUm0fsVQSBe+1oqKpEldGIU5VVMNlc6A09x5K8WyPYuZDzOUTvYUBB2QkYz3q2eHSA+lZFGcqJvc3ZOpgv3Yb/8Uupw/OITf+EXtdl1JossH9+D+4uF37fM4jxyNdoNZYgJ+cwKi/4MCqYvIh2Lj6nGeWHS1FJbFwszXB6Q5gWFJXk3MsZVB7OFYzPdAVlOCXInSo9nYZcRjTQgapKM+zONthsbvzPv77HjeqPUdv2KexWK5wB1QAWZlmFqPGNYv7ZOGbSUaISmxp3LQrLrOj2/wORGXkGmY6MdB7JiO4tiUUuUbRVug6rzY5ON2mf38HpuoffNxSIBn6kfewBiPuPVJtv1L/kwtnfrCKwZXLJqrTs4wIC6xE3Sg0X0fdyBL7GOwgtyqy9GUBrWBj9HvfsZlRJBLl1C90J+Ooatq5j2Uw09nzPIcDIZRc2KT/3Axylx9FwpRmu4IxSP7QL68NE3psIMHLZm+3KasUQyDoCjFyy3gRMAIbA3kSAkcvebFdWK4ZA1hFg5JL1JmAC7AkEVkfQ52qCsUAPLq8JgVnZuDGG6eA9tBgPIaesAY67QfGk+56o9MaVYOSyMT7sKUMgfQSWg3BUlOEjQx5qFIakS4i4rYmDqWmWSLbpHz3dyPJ5DQsTj/BNZw0K0zosm+aHtykbI5dtApIVwxBYj9yFqWsA/yTeAaiDqMAL9DU6MfAmXZMBEUtivV2QkjSWMRH4HJ1uDzprD1Jn9t6fdmDkkmlbzPejOY+cAs+S72D+Ofx1ByRPctQJZbo+8cOBHLiDnQjLM3U6T8bXa5j2N0ge7WgzfVKgbH1NzpodRWdYto5O9THRf41oc0MfhUiV/31MJ75/7GgdmMVqxI0KXTGaB16KgpIZTS19Viw9+TcmF7kMEWv6uIj8JNt/Gbm8TQtIfmHipvpvU1ZG75LpdiW4fa3av4oCuez0YCWdu0zlrFwrLY0KvhN505AjoyyvEXQ0id75JOKXfQiJM5qtHxxl5JJRQ+yRl2b7YNbTPmredb1UHuvUn38ng1WLSLTS1MJp3L8TeTW+ux1J60/gNv1BOsLCSw7AyJmx+fiMRvEZcoTj+BnqIK/iqXDDyCUZkw8kRfZrkt7J5B0BRXBDkCrMBzmoTaI0sJnLjmCvLnS2D42t0mFT8mx1GO6KHByw38e3jqtUNIQ1zIfuorX5HMoVblanMeCsg1Hw20x8NxtxqqwAenJ+jUozmm5iQOFmgxD5YaZzUbfH7r6XliT5ToSWt6ao2656i/6BaV8wqpI/EHJZn/gOn/eNJPwzq2DY+Vsey8EbqFXsEBFn5fXQ6/NRUHUXEdkXPD+O3us+/PKTC8XVXoxv0HXYzGXnW07jCyT6399wq6YSpqZ22C3nYPvqX0i4iybH8wfhtp5EpfkanOSgnulWIqrA0jB6bBdw0VgOkzuM2eg/0G1tgNX+KdpqP0a1VjhSEkWg95p4ernjMiztn+HWqVwYrAHRzwoWMfLnq7BcqUVZxU0Mjj/BfacVVrsDVuNpOKSTzfz0AFzNDaiqcGJwbgULj3tgszTBamqEJ6IKJBabRNB9CZXCielrMFfVwhmPakncV54EpyvHxbZLsDS3o63uFOo9lFsLDXIhbg56Wq7gmvk4Slu/T9hc8L+hv9WI831R8JBDsxbCItxrNEE8SWsJpJUmvcDPY6TvFmoqTqOp4xosta34Sq63hrzxz6S8ICR/gvLklzLjDj4gMlxSuCUVPiYp/ZN1csQfcKVquzpZPEYuyZjscIrsd+UQLP5x0bUC8dty5hL8UyQUAfHi/yXqio7D0R+VXC+sYNx7GoYTXoyvxzDlt6M9OIfloAP79YdQfrEHjyVftKJHOtVSR3BXcBYH4lENyM7ARRhoX73z/bh6+W+YFQaIHjklV9En+YQRTjHrzfBPzSNy9zbuT43CZ8zHkSutuHihF+OLE3jQ8hH2xYkKwNITfFl3BKWO7zEluVTgx72oNpyBd5y4S3iBPnM+OP0pdP8s2ULMB2A1UI6+kwbrGzzuboU78kZ0ZK5rSEzXBdehcuQCHqsjXtTk6tKYbmsRiVYaaRri9uEscvMuwj8punwgjqzOnPNjivyCJ8m7eVfi5wfhKP6Ecvy++TvbmmMpAn+nFZW5B1Fp+wLBeHgY8hUSOfIs6uJRHaQvLw7CftAC/9gAbt4OqZyTJ6TbmFzWsRD+DziddpjLcqAvM+NTZye8YdExfaKU7F3tut0ifu7vaCk0IM/2ALPClHIRI9565MpbnkKMnxwUOX9UeMUnDZUjePsfk2wOSMNXgtPXwjtOzXkEt5P09qn8K34UzpDsWIqMA1KevAVMfNw6cKHvBfioDybdAdT5nydOKwv+X/Nh/k8/XFf+iile8oRX2Casn9cibhzVHaQiDBDP/segK7qhdKcgDD5Jx7IchH2/HDlB6kASscU9u6kH6+Ig2hvvY4p/haD9MGWLIeuPTsIzKvt5eYPhrpOqXSCtjqpFJFppa5gbaEMhdwi2gBTIXg6ZIm+Tq+XV+hydJsRiOonT8cgM9MP3+Jr00Y9MaPr0Nu5TfU8t8cbkos79/t3vMnKRwksoQpQsYtR/HRZnANHYirjOpUOGCJiTwX8ZBsG/70v8NhrFkvTLr/RVS2Y1Zuj1jeiTzbdlb3YKoyhpSRLfAuYR+20EYwsxKbQJPUghxdLOwcm2m7jT9wy8oIilQ4coO4YYDkVDUSvMTET3mivEp4siDAoAYfeKcr+pHqyxKTwdmwcvuB01SCFdyLcXMdxVoYr1TYKfNSttVATiPhoP2yJKrUUkGmmLP8JZpFeGeFn9Ff5WW8IZllpeJSzUHXEC9hAeSyWqb/yQWNpROfbC5eYWuu93LXcXuUhOmhMBylTgEiIw5aoGCckjDR6O8qWrudMyg4C1ADpa0SYN2P32IDV9FZckulo/phUiaA1S4v6yDjp5ZgUeK2EXDsVnPYoCJF+8JL88K0o8FxW4xAn1L5giBmw0CYLHcsiJfDooW4rBKpZDLf0k3BL6I/LNGQSu3FDZzyxjZmySclVK8mkQSVKaPDOSl12JOimuUsiryENWV7Pfo6WIeDHcJKJByuc65DX3S7oydemJ+8zLz1Sud/teoqY7c7WryGUt3ImDKZxyC/AInZOjlKwSaMQGodSg+NXU2mkR/dlKMwp+FmNj89LyR2XLQhOTPBsgn5I82icNUmsBuPgSZxPDN9m6VRFahBQuvSfM2ubEgHKl7sQuhEyg9KxOc7BKsy56l0uoj8rZ+eIgrl/9btMBmB65SH53dXUaIWClNiJ/NOWlntOXsUkMuk6jyNSDSNx/Kp2BXWcbgd1FLsNdKNYMXUJ2h55geOr/BBJRmkLzWAzdQJHumOi0W0BcGmCKASwtiaQIBeuRL1DrfoLVpG/KMw9xC1jOJ+w0CssWZXgLkbAKEpEIpVlCytmXTCLq0K3CsiIHRzqJo3BphkRHYFQ8l7qV5mAlM43D4Oh3BZ0Q7Sh9DbOB36FdNl/nX+LhZ21oajiOUscPmFNsn6Yzc5HkVddJaovoUAQzmSh0hWBspzVkkuq/XX/eixPPZAZsTujAiEydFpSRaKJlFtzyR6jd0jXMhf4AU8F+FBpb4A6+kPR/RNdn3pjgtwszALuKXLAyhK7SQqWyFMuYDvXgko3s+CwKIUIN8WUNj9jU93AcOQSTZ5gCX1z+cBUejMYHivTrStLWZxG83ibuQAiDtigeopZfCOMzUyH2C5EZ5xFxX5ViJsvLEkrJGptAn+0oSmiv+wIBpda3kLZdH/fihOE0vOMrYlPHouh3VCAv/istEaYcTlaOeGj6Ir7rJbyoSS4SicrvYhmT/ovIo/Q3/EIIty97pXjb5Ft30OgbwUuyQ6aYLZGvpEMuJC52N0oNZMeMCi4ee4GQ5ypsd6Xtc015RQhS/p8Yqx2rgTuSiE6ZMu/bPNjmE8/Joqxh4ekQnqaMoKkiF1KANFPW+qHip/pw5fJ9TCqctzNyScY9nkJmKA/gqDoBs70Dzo4WXKy/hBu+nyTv/GRq/Rz9zlpUSfYtlZWX4A5OKsNfCN7z83HM8xSybZO4hd0DU4kJTc1NuBH3uE+2vntQX3UObR3NsNg+F2xYvrYcQ9XFi7Bcl21FZCVvPW7dboKlrR1NpirUdf1DEc5DWI4p4jfFK0ddLCPafwumKhIR4BrMlSdhdQ8qyhG3dS/AZHXAbj6BqpZeRNQdM9VgjT1DwGGSbIAuw9b9A/412Inq8jq0OdtgtXQiEA+tIoWNnR+Fr6ZQhRkROR1yIfnoKAdOdDQ3ot52C77wVKJtUslLIZN8ScwMzm5j0LfkL5CU7T7xnPwVgqMRzpDK1imeUYNc8BpBe3GyjpGfxkD7dfij6uB+jFzicO6uC1HJq/UrkrV6ZDRYtaUlweyPGerhez6LZ2Ny6BaSN11y0S5XkZqhvPzMEL4NyTZNihK36Wb7TzwnC5YJuZAdvRpwCsX+GuaDd3DZN5og7fjHGLnEodhVF4Ldicb2cTYrkeFgTRZZVCYbLH14+bwXjTdoG6Lsk0uyvNudsv0nnpMlzIRcyLEDB/bTO4uLj+Bq/FJa0qq/wshFjciuuBescCm9xXsh9LaRyxrmBjtQWn4OV2yfIZh0cG6Pu1zY6onnjBo/E3IBRItyeYt/AY+7r22gf2LkklHTZO+lZUz0XYdRCDJGokeacNk/RulysifZlrZ2MxbzA5i5pH3ieQsgzg3AaRJPP4snoUkE0hwx+ih1CtrkHMCcUKyWzoWoskRLbWKVvRTx4EL3ELVxoZaHkYsaEXafKQJrYXQelLzlySb2mZaV9B7tiU5lBwQqnnTceDCpACqB8kRHn3eicmTvcgsnnkHcKXjQbm+Q3CmQoyO3UeUKY40cYjzUhIBi1kfXKrOZi7xjZPikAzcbf4+H8xu5G2TkQiPOrhkCWUZgCyeeBXcKX+HJjzdwSDCHIPY9VajyjoHnpxG43JY4VpJUqwzJRd4x4krhCM4mzrMllU8SGLlowsISGQLvHIFMTjxjAeHOSlR7R8GDzMgqpfNZL9B3/U+URbW6NpmSC9kxOoPClr+rjBvV5ZN7Ri5aqLA0hsAuQYAM4DLRXoVSqPOzD3Dz32m7KnV1MiUXdTkb3TNy2Qgd9owh8J4jEMN0fwdqbN34k8sJZ1sD6pyfo9vlU1pPJ9UiAwvdpDI2S2DkshlC7DlD4ANEIMVu0ZaQYOSyJbhYZobAh4EAOfoyjKH4sYxMar2M6NCw8hhJJsWk+c7uOriYZqVYNoYAQyD7CDByyX4bMAkYAnsSAUYue7JZWaUYAtlHgJFL9tuAScAQ2JMIMHLZk83KKsUQyD4CjFyy3wZMAobAnkSAkcuebFZWKYZA9hH4f6uezRMo7QrRAAAAAElFTkSuQmCC) using this equation"
   ]
  },
  {
   "cell_type": "code",
   "execution_count": null,
   "metadata": {
    "id": "xvYOgZpms1zH"
   },
   "outputs": [],
   "source": [
    "Fake_condProb_without_SW = {}\n",
    "Real_condProb_without_SW = {}\n",
    "\n",
    "for word in vocab:\n",
    "  word = str(word)\n",
    "\n",
    "  prob_fake = (Fakenews_Ni[word] + 1)/(Fakenews_vocab_count + V)\n",
    "  Fake_condProb_without_SW[word] = prob_fake\n",
    "\n",
    "  prob_real = (Realnews_Ni[word] + 1)/(Realnews_vocab_count + V)\n",
    "  Real_condProb_without_SW[word] = prob_real\n",
    "  "
   ]
  },
  {
   "cell_type": "code",
   "execution_count": null,
   "metadata": {
    "colab": {
     "base_uri": "https://localhost:8080/"
    },
    "id": "h6xATP_bs1zH",
    "outputId": "2eff1ac7-d075-4e2f-c159-a63aa6606eda"
   },
   "outputs": [
    {
     "name": "stdout",
     "output_type": "stream",
     "text": [
      "0.00022023785688543628\n",
      "0.00025\n"
     ]
    }
   ],
   "source": [
    "print(Fake_condProb_without_SW['عمران'])\n",
    "print(Real_condProb_without_SW['عمران'])"
   ]
  },
  {
   "cell_type": "markdown",
   "metadata": {
    "id": "b-HoAJE-zUpt"
   },
   "source": [
    "# **Testing**"
   ]
  },
  {
   "cell_type": "markdown",
   "metadata": {
    "id": "iMhYgi5mi8WF"
   },
   "source": [
    "**Label assigned to each news**\n",
    "\n",
    "NB = Naive Bayes\n",
    "\n",
    "BNB = Binary Naive Bayes\n",
    "\n",
    "SW = Stop words\n"
   ]
  },
  {
   "cell_type": "code",
   "execution_count": null,
   "metadata": {
    "id": "eAqeTsfi0Gap"
   },
   "outputs": [],
   "source": [
    "y_true_NB = []\n",
    "y_true_BNB_without_SW = []\n",
    "y_true_BNB_with_SW = []"
   ]
  },
  {
   "cell_type": "markdown",
   "metadata": {
    "id": "cKZcAU81WsZA"
   },
   "source": [
    "**Loading Test set for Naive bayes Clasifier**"
   ]
  },
  {
   "cell_type": "code",
   "execution_count": null,
   "metadata": {
    "id": "dEpZwBSEPJBW"
   },
   "outputs": [],
   "source": [
    "#Fake news\n",
    "\n",
    "News = []\n",
    "for filename in sorted(glob.glob(\"/content/drive/MyDrive/dataset_NLP_A5/Test/Fake/*.txt\")):\n",
    "    with open(filename, 'r') as f:\n",
    "      i = f.read()\n",
    "\n",
    "      sentence = unlp(i)\n",
    "      news =  ''\n",
    "      for word in sentence:\n",
    "        word = removePunctuation(word)\n",
    "        news += word + ' '\n",
    "       \n",
    "      News.append(news) \n",
    "      y_true_NB.append('fake')\n",
    "\n",
    "    f.close()\n",
    "\n",
    "#Real news\n",
    "for filename in sorted(glob.glob(\"/content/drive/MyDrive/dataset_NLP_A5/Test/Real/*.txt\")):\n",
    "    with open(filename, 'r') as f:\n",
    "      i = f.read()\n",
    "      \n",
    "      sentence = unlp(i)\n",
    "      news =  ''\n",
    "      for word in sentence:\n",
    "        word = removePunctuation(word)\n",
    "        news += word + ' '\n",
    "       \n",
    "      News.append(news) \n",
    "      y_true_NB.append('real')\n",
    "\n",
    "    f.close()"
   ]
  },
  {
   "cell_type": "markdown",
   "metadata": {
    "id": "5NCJp7HojW7W"
   },
   "source": [
    "**Loading Test set for Binary Naive bayes Clasifier with Stop words**"
   ]
  },
  {
   "cell_type": "code",
   "execution_count": null,
   "metadata": {
    "id": "ctvsVYDRPW7k"
   },
   "outputs": [],
   "source": [
    "#Fake news\n",
    "\n",
    "News = []\n",
    "for filename in sorted(glob.glob(\"/content/drive/MyDrive/dataset_NLP_A5/Test/Fake/*.txt\")):\n",
    "    with open(filename, 'r') as f:\n",
    "      i = f.read()\n",
    "\n",
    "      sentence = unlp(i)\n",
    "      news =  ''\n",
    "      for word in sentence:\n",
    "        word = removePunctuation(word)\n",
    "        news += word + ' '\n",
    "\n",
    "      news = remove_duplicate_words(news) \n",
    "      News.append(news) \n",
    "      y_true_BNB_with_SW.append('fake')\n",
    "\n",
    "    f.close()\n",
    "\n",
    "#Real news\n",
    "for filename in sorted(glob.glob(\"/content/drive/MyDrive/dataset_NLP_A5/Test/Real/*.txt\")):\n",
    "    with open(filename, 'r') as f:\n",
    "      i = f.read()\n",
    "      \n",
    "      sentence = unlp(i)\n",
    "      news =  ''\n",
    "      for word in sentence:\n",
    "        word = removePunctuation(word)\n",
    "        news += word + ' '\n",
    "\n",
    "      news = remove_duplicate_words(news) \n",
    "      News.append(news) \n",
    "      y_true_BNB_with_SW.append('real')\n",
    "\n",
    "    f.close()"
   ]
  },
  {
   "cell_type": "markdown",
   "metadata": {
    "id": "QWY0yQe_jekQ"
   },
   "source": [
    "**Loading Test set for Binary Naive bayes Clasifier without Stop words**"
   ]
  },
  {
   "cell_type": "code",
   "execution_count": null,
   "metadata": {
    "id": "9RG6RJkg0MXY"
   },
   "outputs": [],
   "source": [
    "#Fake news\n",
    "\n",
    "News = []\n",
    "for filename in sorted(glob.glob(\"/content/drive/MyDrive/dataset_NLP_A5/Test/Fake/*.txt\")):\n",
    "    with open(filename, 'r') as f:\n",
    "      i = f.read()\n",
    "\n",
    "      sentence = unlp(i)\n",
    "      news =  ''\n",
    "      for word in sentence:\n",
    "        word = removePunctuation(word)\n",
    "        if word not in stop_words:\n",
    "          news += word + ' '\n",
    "       \n",
    "      news = remove_duplicate_words(news)\n",
    "      News.append(news) \n",
    "      y_true_BNB_without_SW.append('fake')\n",
    "\n",
    "    f.close()\n",
    "\n",
    "#Real news\n",
    "for filename in sorted(glob.glob(\"/content/drive/MyDrive/dataset_NLP_A5/Test/Real/*.txt\")):\n",
    "    with open(filename, 'r') as f:\n",
    "      i = f.read()\n",
    "      \n",
    "      sentence = unlp(i)\n",
    "      news =  ''\n",
    "      for word in sentence:\n",
    "        word = removePunctuation(word)\n",
    "        if word not in stop_words:\n",
    "          news += word + ' '\n",
    "       \n",
    "      news = remove_duplicate_words(news)\n",
    "      News.append(news) \n",
    "      y_true_BNB_without_SW.append('real')\n",
    "\n",
    "    f.close()"
   ]
  },
  {
   "cell_type": "markdown",
   "metadata": {
    "id": "Gz4g3R8Uf_ww"
   },
   "source": [
    "**These functions will calculate the probabilty of each word in test news and return real or fake using argmax**\n",
    "\n",
    "\n",
    "\n",
    "1.   **predict_NB** = Prediction of Real and Fake news with Naive Bayes Classifier\n",
    "2.   **predict_BNB_without_SW** = Prediction of Real and Fake news with Binary Naive Bayes Classifier without Stopwords\n",
    "3. **predict_BNB_with_SW** = Prediction of Real and Fake news with Binary Naive Bayes Classifier with Stopwords\n",
    "\n",
    "\n",
    "\n",
    "\n",
    "\n",
    "\n",
    "\n",
    "\n"
   ]
  },
  {
   "cell_type": "code",
   "execution_count": null,
   "metadata": {
    "id": "5ZEPQhmkksTs"
   },
   "outputs": [],
   "source": [
    "#Naive Bayes\n",
    "def predict_NB(news):\n",
    "\n",
    "  C = ['real','fake']\n",
    "  score = {}\n",
    " \n",
    "  for c in C:\n",
    "    score[c] = math.log(prior[c])\n",
    "    \n",
    "    for word in news:\n",
    "      if c == 'real':\n",
    "        if word in Real_condProb_NB:\n",
    "          score[c] += math.log(Real_condProb_NB[word])\n",
    "\n",
    "      elif c == 'fake':\n",
    "        if word in Fake_condProb_NB:\n",
    "          score[c] += math.log(Fake_condProb_NB[word])\n",
    "\n",
    "  result = max(score, key = score.get)\n",
    "  y_pred_NB.append(result)\n",
    "\n",
    "  if result == 'real':\n",
    "    r['real'] += 1\n",
    "  elif result == 'fake':\n",
    "    r['fake'] += 1\n"
   ]
  },
  {
   "cell_type": "code",
   "execution_count": null,
   "metadata": {
    "id": "TD0TfJeEJyic"
   },
   "outputs": [],
   "source": [
    "#Binary Naive Bayes without stopwords\n",
    "def predict_BNB_without_SW(news):\n",
    "\n",
    "  C = ['real','fake']\n",
    "  score = {}\n",
    " \n",
    "  for c in C:\n",
    "    score[c] = math.log(prior[c])\n",
    "    \n",
    "    for word in news:\n",
    "      if c == 'real':\n",
    "        if word in Real_condProb_NB:\n",
    "          score[c] += math.log(Real_condProb_without_SW[word])\n",
    "\n",
    "      elif c == 'fake':\n",
    "        if word in Fake_condProb_NB:\n",
    "          score[c] += math.log(Fake_condProb_without_SW[word])\n",
    "\n",
    "  result = max(score, key = score.get)\n",
    "  y_pred_BNB_without_SW.append(result)\n",
    "\n",
    "  if result == 'real':\n",
    "    r['real'] += 1\n",
    "  elif result == 'fake':\n",
    "    r['fake'] += 1"
   ]
  },
  {
   "cell_type": "code",
   "execution_count": null,
   "metadata": {
    "id": "Iz8eb9FIJ2z1"
   },
   "outputs": [],
   "source": [
    "#Binary Naive bayes with stop words\n",
    "def predict_BNB_with_SW(news):\n",
    "\n",
    "  C = ['real','fake']\n",
    "  score = {}\n",
    " \n",
    "  for c in C:\n",
    "    score[c] = math.log(prior[c])\n",
    "    \n",
    "    for word in news:\n",
    "      if c == 'real':\n",
    "        if word in Real_condProb_NB:\n",
    "          score[c] += math.log(Real_condProb_with_SW[word])\n",
    "\n",
    "      elif c == 'fake':\n",
    "        if word in Fake_condProb_NB:\n",
    "          score[c] += math.log(Fake_condProb_with_SW[word])\n",
    "\n",
    "  result = max(score, key = score.get)\n",
    "  y_pred_BNB_with_SW.append(result)\n",
    "\n",
    "  if result == 'real':\n",
    "    r['real'] += 1\n",
    "  elif result == 'fake':\n",
    "    r['fake'] += 1"
   ]
  },
  {
   "cell_type": "markdown",
   "metadata": {
    "id": "4MO-7YdggYt2"
   },
   "source": [
    "## **Testing the final working of the Model**"
   ]
  },
  {
   "cell_type": "markdown",
   "metadata": {
    "id": "KW6K2RmJkXNB"
   },
   "source": [
    "\n",
    "1.   **Naive Bayes**\n",
    "\n"
   ]
  },
  {
   "cell_type": "code",
   "execution_count": null,
   "metadata": {
    "colab": {
     "base_uri": "https://localhost:8080/"
    },
    "id": "G5KYjkCYksTr",
    "outputId": "7db1fa79-d021-4abd-db87-766511592278"
   },
   "outputs": [
    {
     "data": {
      "text/plain": [
       "{'fake': 123, 'real': 139}"
      ]
     },
     "execution_count": 128,
     "metadata": {
      "tags": []
     },
     "output_type": "execute_result"
    }
   ],
   "source": [
    "y_pred_NB = []\n",
    "\n",
    "r = {'real':0, 'fake':0}\n",
    "\n",
    "for news in News:\n",
    "  sentence = unlp(news)\n",
    "  news = []\n",
    "  for word in sentence:\n",
    "    word = removePunctuation(word)\n",
    "    news.append(word)\n",
    "\n",
    "  predict_NB(news)\n",
    "\n",
    "r"
   ]
  },
  {
   "cell_type": "markdown",
   "metadata": {
    "id": "sljvRtNjkd1S"
   },
   "source": [
    "\n",
    "2.   **Binary Naive Bayes without Stopwords**\n",
    "\n"
   ]
  },
  {
   "cell_type": "code",
   "execution_count": null,
   "metadata": {
    "colab": {
     "base_uri": "https://localhost:8080/"
    },
    "id": "a0JzlfktKeSz",
    "outputId": "c51486ee-d4fd-4de8-93b9-98e7ec1bd5ac"
   },
   "outputs": [
    {
     "data": {
      "text/plain": [
       "{'fake': 105, 'real': 157}"
      ]
     },
     "execution_count": 72,
     "metadata": {
      "tags": []
     },
     "output_type": "execute_result"
    }
   ],
   "source": [
    "y_pred_BNB_without_SW = []\n",
    "\n",
    "r = {'real':0, 'fake':0}\n",
    "\n",
    "for news in News:\n",
    "  sentence = unlp(news)\n",
    "  news = []\n",
    "  for word in sentence:\n",
    "    word = removePunctuation(word)\n",
    "    news.append(word)\n",
    "\n",
    "  predict_BNB_without_SW(news)\n",
    "\n",
    "r"
   ]
  },
  {
   "cell_type": "markdown",
   "metadata": {
    "id": "1ekUs1tGkqdg"
   },
   "source": [
    "\n",
    "\n",
    "\n",
    "3.   **Binary Naive Bayes with Stopwords**\n",
    "\n"
   ]
  },
  {
   "cell_type": "code",
   "execution_count": null,
   "metadata": {
    "colab": {
     "base_uri": "https://localhost:8080/"
    },
    "id": "UAsidrDMKhrW",
    "outputId": "4a3fe113-82db-4809-c768-a9dee050f05e"
   },
   "outputs": [
    {
     "data": {
      "text/plain": [
       "{'fake': 107, 'real': 155}"
      ]
     },
     "execution_count": 51,
     "metadata": {
      "tags": []
     },
     "output_type": "execute_result"
    }
   ],
   "source": [
    "y_pred_BNB_with_SW = []\n",
    "\n",
    "r = {'real':0, 'fake':0}\n",
    "\n",
    "for news in News:\n",
    "  sentence = unlp(news)\n",
    "  news = []\n",
    "  for word in sentence:\n",
    "    word = removePunctuation(word)\n",
    "    news.append(word)\n",
    "\n",
    "  predict_BNB_with_SW(news)\n",
    "\n",
    "r"
   ]
  },
  {
   "cell_type": "markdown",
   "metadata": {
    "id": "hqbqAntygd-d"
   },
   "source": [
    "# **Classification Report**"
   ]
  },
  {
   "cell_type": "code",
   "execution_count": null,
   "metadata": {
    "id": "bpE2WKC8Wyq8"
   },
   "outputs": [],
   "source": [
    "target_names = ['real', 'fake']"
   ]
  },
  {
   "cell_type": "markdown",
   "metadata": {
    "id": "L06yIbuGkz_v"
   },
   "source": [
    "1. Classification report for **Naive Bayes**"
   ]
  },
  {
   "cell_type": "code",
   "execution_count": null,
   "metadata": {
    "colab": {
     "base_uri": "https://localhost:8080/"
    },
    "id": "H7jgpyv12HRd",
    "outputId": "d968a8d3-e812-4910-8a2e-6b47d4066c68"
   },
   "outputs": [
    {
     "name": "stdout",
     "output_type": "stream",
     "text": [
      "              precision    recall  f1-score   support\n",
      "\n",
      "        real       0.64      0.71      0.67       112\n",
      "        fake       0.76      0.71      0.73       150\n",
      "\n",
      "    accuracy                           0.71       262\n",
      "   macro avg       0.70      0.71      0.70       262\n",
      "weighted avg       0.71      0.71      0.71       262\n",
      "\n"
     ]
    }
   ],
   "source": [
    "print(classification_report(y_true_NB, y_pred_NB, target_names=target_names))"
   ]
  },
  {
   "cell_type": "markdown",
   "metadata": {
    "id": "NIWB_ckBk6A7"
   },
   "source": [
    "1. Classification report for **Binary Naive Bayes without Stopwords**"
   ]
  },
  {
   "cell_type": "code",
   "execution_count": null,
   "metadata": {
    "colab": {
     "base_uri": "https://localhost:8080/"
    },
    "id": "slDirc7e2cfF",
    "outputId": "f88de8d2-ae86-4f14-822e-22b42fd5af46"
   },
   "outputs": [
    {
     "name": "stdout",
     "output_type": "stream",
     "text": [
      "              precision    recall  f1-score   support\n",
      "\n",
      "        real       0.73      0.69      0.71       112\n",
      "        fake       0.78      0.81      0.79       150\n",
      "\n",
      "    accuracy                           0.76       262\n",
      "   macro avg       0.76      0.75      0.75       262\n",
      "weighted avg       0.76      0.76      0.76       262\n",
      "\n"
     ]
    }
   ],
   "source": [
    "print(classification_report(y_true_BNB_without_SW, y_pred_BNB_without_SW, target_names=target_names))"
   ]
  },
  {
   "cell_type": "markdown",
   "metadata": {
    "id": "LREOBTA8lAhJ"
   },
   "source": [
    "1. Classification report for **Binary Naive Bayes with Stopwords**"
   ]
  },
  {
   "cell_type": "code",
   "execution_count": null,
   "metadata": {
    "colab": {
     "base_uri": "https://localhost:8080/"
    },
    "id": "UpCPwChKLO-i",
    "outputId": "646768d5-fc12-4ff2-8060-0da289fa41b0"
   },
   "outputs": [
    {
     "name": "stdout",
     "output_type": "stream",
     "text": [
      "              precision    recall  f1-score   support\n",
      "\n",
      "        real       0.75      0.71      0.73       112\n",
      "        fake       0.79      0.82      0.81       150\n",
      "\n",
      "    accuracy                           0.77       262\n",
      "   macro avg       0.77      0.77      0.77       262\n",
      "weighted avg       0.77      0.77      0.77       262\n",
      "\n"
     ]
    }
   ],
   "source": [
    "print(classification_report(y_true_BNB_with_SW, y_pred_BNB_with_SW, target_names=target_names))"
   ]
  },
  {
   "cell_type": "markdown",
   "metadata": {
    "id": "FqNCetrLlONE"
   },
   "source": [
    "**Results**\n",
    "\n",
    "We can clearly see that Boolean Naive Bayes improves our performance as compared to simple Naive Bayes Classifier\n",
    "\n",
    "\n",
    "\n",
    "1.   Naive Bayes = 75%\n",
    "2.   Binary Naive Bayes with stopwords = 76%\n",
    "3. Binary Naive Bayes without stopwords = 77%\n",
    "\n"
   ]
  },
  {
   "cell_type": "code",
   "execution_count": null,
   "metadata": {
    "id": "3cb_9g2QO36k"
   },
   "outputs": [],
   "source": []
  }
 ],
 "metadata": {
  "colab": {
   "collapsed_sections": [],
   "name": "Fake News Detection.ipynb",
   "provenance": []
  },
  "kernelspec": {
   "display_name": "Python 3 (ipykernel)",
   "language": "python",
   "name": "python3"
  },
  "language_info": {
   "codemirror_mode": {
    "name": "ipython",
    "version": 3
   },
   "file_extension": ".py",
   "mimetype": "text/x-python",
   "name": "python",
   "nbconvert_exporter": "python",
   "pygments_lexer": "ipython3",
   "version": "3.9.7"
  }
 },
 "nbformat": 4,
 "nbformat_minor": 1
}
